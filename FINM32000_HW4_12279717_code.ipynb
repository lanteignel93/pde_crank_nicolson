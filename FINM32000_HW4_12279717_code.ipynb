{
 "cells": [
  {
   "cell_type": "code",
   "execution_count": 1,
   "metadata": {},
   "outputs": [],
   "source": [
    "import numpy as np\n",
    "from scipy.sparse import diags\n",
    "from scipy.sparse.linalg import spsolve\n",
    "from tqdm import tqdm"
   ]
  },
  {
   "cell_type": "code",
   "execution_count": 2,
   "metadata": {},
   "outputs": [],
   "source": [
    "class Dynamics:\n",
    "    pass"
   ]
  },
  {
   "cell_type": "code",
   "execution_count": 3,
   "metadata": {},
   "outputs": [],
   "source": [
    "hw4dynamics=Dynamics()\n",
    "hw4dynamics.volcoeff = 3\n",
    "hw4dynamics.alpha = -0.5\n",
    "hw4dynamics.r = 0.05\n",
    "hw4dynamics.S0 = 100\n",
    "\n"
   ]
  },
  {
   "cell_type": "code",
   "execution_count": 4,
   "metadata": {},
   "outputs": [],
   "source": [
    "class Contract:\n",
    "    pass"
   ]
  },
  {
   "cell_type": "code",
   "execution_count": 5,
   "metadata": {},
   "outputs": [],
   "source": [
    "hw4contract=Contract()\n",
    "hw4contract.T = 0.25\n",
    "hw4contract.K = 100"
   ]
  },
  {
   "cell_type": "code",
   "execution_count": 6,
   "metadata": {},
   "outputs": [],
   "source": [
    "class FD:\n",
    "    pass"
   ]
  },
  {
   "cell_type": "code",
   "execution_count": 7,
   "metadata": {},
   "outputs": [],
   "source": [
    "hw4FD=FD()\n",
    "hw4FD.SMax=200\n",
    "hw4FD.SMin=50\n",
    "hw4FD.deltaS=0.1\n",
    "hw4FD.deltat=0.0005\n"
   ]
  },
  {
   "cell_type": "code",
   "execution_count": 8,
   "metadata": {},
   "outputs": [],
   "source": [
    "# You complete the coding of this function\n",
    "\n",
    "def pricer_put_CEV_CrankNicolson(contract,dynamics,FD, BS = False):\n",
    "# returns array of all initial spots,\n",
    "# and the corresponding array of put prices\n",
    "\n",
    "    volcoeff=dynamics.volcoeff\n",
    "    alpha=dynamics.alpha\n",
    "    r=dynamics.r\n",
    "    T=contract.T\n",
    "    K=contract.K\n",
    "\n",
    "    # SMin and SMax denote the smallest and largest S in the _interior_.\n",
    "    # The boundary conditions are imposed one step _beyond_, \n",
    "    # e.g. at S_lowboundary=SMin-deltaS, not at SMin.\n",
    "    # To relate to lecture notation, S_lowboundary is S_{-J}\n",
    "    # whereas SMin is S_{-J+1}\n",
    "\n",
    "    SMax=FD.SMax\n",
    "    SMin=FD.SMin\n",
    "    deltaS=FD.deltaS\n",
    "    deltat=FD.deltat\n",
    "    N=round(T/deltat)\n",
    "    if abs(N-T/deltat)>1e-12:\n",
    "        raise ValueError('Bad time step')\n",
    "    numS=round((SMax-SMin)/deltaS)+1\n",
    "    if abs(numS-(SMax-SMin)/deltaS-1)>1e-12:\n",
    "        raise ValueError('Bad time step')\n",
    "    S=np.linspace(SMax,SMin,numS)    #The FIRST indices in this array are for HIGH levels of S\n",
    "    S_lowboundary=SMin-deltaS\n",
    "\n",
    "    putprice=np.maximum(K-S,0)\n",
    "\n",
    "    ratio=deltat/deltaS\n",
    "    ratio2=deltat/deltaS**2\n",
    "    if BS is False:\n",
    "        f = 0.5*(volcoeff**2)*(S**(2*(1+alpha)))\n",
    "        g = 0\n",
    "        h = -r*np.ones(len(S))\n",
    "    else:\n",
    "        f = 0.5*(volcoeff**2)*(S**2)\n",
    "        g = 0\n",
    "        h = -r*np.ones(len(S))\n",
    "        \n",
    "    F = 0.5*ratio2*f+0.25*ratio*g\n",
    "    G = ratio2*f-0.50*deltat*h\n",
    "    H = 0.5*ratio2*f-0.25*ratio*g\n",
    "    \n",
    "    RHSmatrix = diags([H[:-1], 1-G, F[1:]], [1,0,-1], shape=(numS,numS), format=\"csr\")\n",
    "    LHSmatrix = diags([-H[:-1], 1+G, -F[1:]], [1,0,-1], shape=(numS,numS), format=\"csr\")\n",
    "    # diags creates SPARSE matrices\n",
    "\n",
    "    \n",
    "    for t in tqdm(np.arange(N-1,-1,-1)*deltat):\n",
    "\n",
    "        rhs = RHSmatrix * putprice\n",
    "        \n",
    "        #Now let's add the boundary condition vectors.\n",
    "        #They are nonzero only in the last component:\n",
    "        rhs[-1]=rhs[-1]+2*H[-1]*(K-S_lowboundary)\n",
    "\n",
    "        putprice = spsolve(LHSmatrix, rhs)\n",
    "        # numpy.linalg.solve, which expects arrays as inputs,\n",
    "        # is fine for small matrix equations, and for matrix equations without special structure.\n",
    "        # But for large matrix equations in which the matrix has special structure,\n",
    "        # we want a more intelligent solver that can run faster \n",
    "        # by taking advantage of the special structure of the matrix.\n",
    "        # Specifically, in this case, we want to use a solver that recognizes the SPARSE MATRIX structure.\n",
    "        # Try spsolve, imported from scipy.sparse.linalg\n",
    "        putprice = np.maximum(putprice, K-S)\n",
    "        delta = (putprice[:-2]-putprice[2:])/(2*deltaS)\n",
    "        gamma = (putprice[:-2] - 2*putprice[1:-1] + putprice[2:])/(deltaS**2)\n",
    "    \n",
    "    return(S, putprice, delta, gamma)\n",
    "        "
   ]
  },
  {
   "cell_type": "code",
   "execution_count": 9,
   "metadata": {},
   "outputs": [
    {
     "name": "stderr",
     "output_type": "stream",
     "text": [
      "100%|██████████████████████████████████████████████████████████████████████████████| 500/500 [00:00<00:00, 1591.56it/s]\n"
     ]
    }
   ],
   "source": [
    "(S0_all, putprice, delta, gamma) = pricer_put_CEV_CrankNicolson(hw4contract,hw4dynamics,hw4FD)"
   ]
  },
  {
   "cell_type": "code",
   "execution_count": 10,
   "metadata": {},
   "outputs": [],
   "source": [
    "# pricer_put_CEV_CrankNicolson gives us option prices for ALL S0 from SMin to SMax\n",
    "# But let's display only for a few S0 near 100:\n",
    "\n",
    "displayStart = hw4dynamics.S0-hw4FD.deltaS*1.5 \n",
    "displayEnd   = hw4dynamics.S0+hw4FD.deltaS*1.5\n",
    "displayrows=np.logical_and(S0_all>displayStart, S0_all<displayEnd)\n",
    "np.set_printoptions(precision=4, suppress=True)"
   ]
  },
  {
   "cell_type": "code",
   "execution_count": 11,
   "metadata": {},
   "outputs": [
    {
     "name": "stdout",
     "output_type": "stream",
     "text": [
      "[[100.1      5.8704]\n",
      " [100.       5.9183]\n",
      " [ 99.9      5.9665]]\n"
     ]
    }
   ],
   "source": [
    "print(np.stack((S0_all, putprice),1)[displayrows])"
   ]
  },
  {
   "cell_type": "markdown",
   "metadata": {},
   "source": [
    "## c)"
   ]
  },
  {
   "cell_type": "code",
   "execution_count": 12,
   "metadata": {},
   "outputs": [
    {
     "name": "stdout",
     "output_type": "stream",
     "text": [
      "Delta at S0 = 100, t=0 is equal to: -0.4833\n",
      "Gamma at S0 = 100, t=0 is equal to: 0.0264\n"
     ]
    }
   ],
   "source": [
    "S0_idx = np.where(S0_all == 100)\n",
    "delta_t0 = delta[S0_idx]\n",
    "gamma_t0 = gamma[S0_idx]\n",
    "\n",
    "print('Delta at S0 = 100, t=0 is equal to: {:.4f}'.format(delta_t0[0]))\n",
    "print('Gamma at S0 = 100, t=0 is equal to: {:.4f}'.format(gamma_t0[0]))"
   ]
  },
  {
   "cell_type": "markdown",
   "metadata": {},
   "source": [
    "## d)"
   ]
  },
  {
   "cell_type": "code",
   "execution_count": 13,
   "metadata": {},
   "outputs": [
    {
     "name": "stderr",
     "output_type": "stream",
     "text": [
      "100%|██████████████████████████████████████████████████████████████████████████████| 500/500 [00:00<00:00, 1705.23it/s]\n"
     ]
    }
   ],
   "source": [
    "hw4dynamics.volcoeff = 0.3\n",
    "(S0_all, putprice, delta, gamma) = pricer_put_CEV_CrankNicolson(hw4contract,hw4dynamics,hw4FD, BS = True)"
   ]
  },
  {
   "cell_type": "code",
   "execution_count": 14,
   "metadata": {},
   "outputs": [
    {
     "name": "stdout",
     "output_type": "stream",
     "text": [
      "[[100.1      5.8705]\n",
      " [100.       5.9169]\n",
      " [ 99.9      5.9636]]\n"
     ]
    }
   ],
   "source": [
    "print(np.stack((S0_all, putprice),1)[displayrows])"
   ]
  }
 ],
 "metadata": {
  "anaconda-cloud": {},
  "kernelspec": {
   "display_name": "Python 3",
   "language": "python",
   "name": "python3"
  },
  "language_info": {
   "codemirror_mode": {
    "name": "ipython",
    "version": 3
   },
   "file_extension": ".py",
   "mimetype": "text/x-python",
   "name": "python",
   "nbconvert_exporter": "python",
   "pygments_lexer": "ipython3",
   "version": "3.8.10"
  }
 },
 "nbformat": 4,
 "nbformat_minor": 1
}
